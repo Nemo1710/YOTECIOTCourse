{
 "cells": [
  {
   "cell_type": "markdown",
   "metadata": {},
   "source": []
  },
  {
   "cell_type": "code",
   "execution_count": null,
   "metadata": {
    "collapsed": false
   },
   "outputs": [],
   "source": [
    "\n",
    "\n",
    "import paho.mqtt.client as mqtt\n",
    "\n",
    "\n",
    "def on_message_msgs(mosq, obj, msg):\n",
    "    # This callback will only be called for messages with topics that match\n",
    "    # $SYS/broker/messages/#\n",
    "    print(\"MESSAGES: \" + msg.topic + \" \" + str(msg.qos) + \" \" + str(msg.payload))\n",
    "\n",
    "\n",
    "def on_message_bytes(mosq, obj, msg):\n",
    "    # This callback will only be called for messages with topics that match\n",
    "    # $SYS/broker/bytes/#\n",
    "    print(\"BYTES: \" + msg.topic + \" \" + str(msg.qos) + \" \" + str(msg.payload))\n",
    "\n",
    "\n",
    "def on_message(mosq, obj, msg):\n",
    "    # This callback will be called for messages that we receive that do not\n",
    "    # match any patterns defined in topic specific callbacks, i.e. in this case\n",
    "    # those messages that do not have topics $SYS/broker/messages/# nor\n",
    "    # $SYS/broker/bytes/#\n",
    "    \n",
    "    print(msg.topic + \" \" + str(msg.qos) + \" \" + str(msg.payload))\n",
    "\n",
    "\n",
    "mqttc = mqtt.Client()\n",
    "\n",
    "# Add message callbacks that will only trigger on a specific subscription match.\n",
    "mqttc.message_callback_add(\"#\", on_message_msgs)\n",
    "mqttc.message_callback_add(\"#\", on_message_bytes)\n",
    "mqttc.on_message = on_message\n",
    "mqttc.connect(\"159.203.139.127\", 1883, 60)\n",
    "mqttc.subscribe(\"#\", 0)\n",
    "\n",
    "mqttc.loop_forever()"
   ]
  },
  {
   "cell_type": "code",
   "execution_count": null,
   "metadata": {
    "collapsed": true
   },
   "outputs": [],
   "source": [
    "print \"hola\""
   ]
  },
  {
   "cell_type": "code",
   "execution_count": null,
   "metadata": {
    "collapsed": true
   },
   "outputs": [],
   "source": []
  }
 ],
 "metadata": {
  "kernelspec": {
   "display_name": "Python 2",
   "language": "python",
   "name": "python2"
  },
  "language_info": {
   "codemirror_mode": {
    "name": "ipython",
    "version": 2
   },
   "file_extension": ".py",
   "mimetype": "text/x-python",
   "name": "python",
   "nbconvert_exporter": "python",
   "pygments_lexer": "ipython2",
   "version": "2.7.13"
  }
 },
 "nbformat": 4,
 "nbformat_minor": 2
}
